{
 "cells": [
  {
   "cell_type": "markdown",
   "metadata": {},
   "source": [
    "# Data Pre Processing and Saving"
   ]
  },
  {
   "cell_type": "code",
   "execution_count": 1,
   "metadata": {
    "collapsed": true
   },
   "outputs": [],
   "source": [
    "import numpy as np\n",
    "import pandas as pd\n",
    "import matplotlib.pyplot as plt\n",
    "from skimage.io import imread\n",
    "from skimage.transform import downscale_local_mean\n",
    "from os.path import join\n",
    "import cv2\n",
    "from sklearn.model_selection import train_test_split\n",
    "\n",
    "input_folder = 'Data'\n",
    "\n",
    "df_mask = pd.read_csv(join(input_folder, 'train_masks.csv'), usecols=['img'])\n",
    "ids_train = df_mask['img'].map(lambda s: s.split('_')[0]).unique()\n",
    "\n",
    "imgs_idx = list(range(1, 17))"
   ]
  },
  {
   "cell_type": "code",
   "execution_count": 2,
   "metadata": {
    "collapsed": true
   },
   "outputs": [],
   "source": [
    "load_img = lambda im, idx: imread(join(input_folder, 'train', '{}_{:02d}.jpg'.format(im, idx)))\n",
    "load_mask = lambda im, idx: imread(join(input_folder, 'train_masks', '{}_{:02d}_mask.gif'.format(im, idx)))\n",
    "resize = lambda im: downscale_local_mean(im, (4,4) if im.ndim==2 else (4,4,1))\n",
    "mask_image = lambda im, mask: (im * np.expand_dims(mask, 2))"
   ]
  },
  {
   "cell_type": "markdown",
   "metadata": {},
   "source": [
    "## Donot Run - code for saving and preprocessing training data"
   ]
  },
  {
   "cell_type": "code",
   "execution_count": null,
   "metadata": {
    "collapsed": true
   },
   "outputs": [],
   "source": [
    "# num_train = len(ids_train) \n",
    "# X = np.empty((num_train*16, 320, 480, 12), dtype=np.float32)\n",
    "# y = np.empty((num_train*16, 320, 480, 1), dtype=np.float32)\n",
    "# for i, img_id in enumerate(ids_train):\n",
    "#     imgs_id = [resize(load_img(img_id, j)) for j in imgs_idx]\n",
    "#     for idx in range(1,17):\n",
    "#         X[i, ..., :9] = np.concatenate([imgs_id[idx-1], np.mean(imgs_id, axis=0), np.std(imgs_id, axis=0)], \\\n",
    "#                                        axis=2)\n",
    "#         y[i] = resize(np.expand_dims(load_mask(img_id, idx), 2)) / 255.\n",
    "#     del imgs_id "
   ]
  },
  {
   "cell_type": "code",
   "execution_count": 4,
   "metadata": {
    "collapsed": true
   },
   "outputs": [],
   "source": [
    "import bcolz"
   ]
  },
  {
   "cell_type": "code",
   "execution_count": 7,
   "metadata": {},
   "outputs": [],
   "source": [
    "y=bcolz.open('y_new')\n",
    "y2=y.reshape((5088,1,320,480))\n"
   ]
  },
  {
   "cell_type": "code",
   "execution_count": 9,
   "metadata": {},
   "outputs": [],
   "source": [
    "c=bcolz.carray(y2, rootdir=\"y_new2\", mode='w'); \n",
    "c.flush()"
   ]
  },
  {
   "cell_type": "code",
   "execution_count": null,
   "metadata": {
    "collapsed": true
   },
   "outputs": [],
   "source": [
    "X.shape\n",
    "X2=X.reshape((5088,12,320,480))\n",
    "y.shape\n",
    "y2=y.reshape((5088,1,320,480))"
   ]
  },
  {
   "cell_type": "code",
   "execution_count": null,
   "metadata": {
    "collapsed": true
   },
   "outputs": [],
   "source": [
    "import bcolz\n",
    "c=bcolz.carray(X2, rootdir=\"X_new\", mode='w'); \n",
    "c.flush()\n",
    "c=bcolz.carray(y, rootdir=\"y_new\", mode='w'); \n",
    "c.flush()\n",
    "c=bcolz.carray(X, rootdir=\"X_original\", mode='w'); \n",
    "c.flush()\n",
    "c=bcolz.carray(y, rootdir=\"y_original\", mode='w'); \n",
    "c.flush()"
   ]
  },
  {
   "cell_type": "markdown",
   "metadata": {},
   "source": [
    "# Create Valid Set -- Include Diversity"
   ]
  },
  {
   "cell_type": "code",
   "execution_count": 24,
   "metadata": {},
   "outputs": [],
   "source": [
    "import random\n",
    "val_set = [ (random.randint(0, len(ids_train)) ,x%16 ) for x in range(20)]\n"
   ]
  },
  {
   "cell_type": "code",
   "execution_count": 25,
   "metadata": {
    "collapsed": true
   },
   "outputs": [
    {
     "data": {
      "text/plain": [
       "[(4, 0),\n",
       " (224, 1),\n",
       " (141, 2),\n",
       " (316, 3),\n",
       " (259, 4),\n",
       " (4, 5),\n",
       " (81, 6),\n",
       " (84, 7),\n",
       " (205, 8),\n",
       " (118, 9),\n",
       " (165, 10),\n",
       " (42, 11),\n",
       " (58, 12),\n",
       " (248, 13),\n",
       " (120, 14),\n",
       " (243, 15),\n",
       " (248, 0),\n",
       " (75, 1),\n",
       " (212, 2),\n",
       " (218, 3)]"
      ]
     },
     "execution_count": 25,
     "metadata": {},
     "output_type": "execute_result"
    }
   ],
   "source": [
    "val_set"
   ]
  },
  {
   "cell_type": "code",
   "execution_count": 30,
   "metadata": {},
   "outputs": [],
   "source": [
    "num_val = len(val_set) \n",
    "X = np.empty((num_val, 320, 480, 9), dtype=np.float32)\n",
    "y = np.empty((num_val, 320, 480, 1), dtype=np.float32)\n",
    "cnt=0\n",
    "for i in val_set:\n",
    "    imgs_id = [resize(load_img(ids_train[i[0]], j)) for j in imgs_idx]\n",
    "    idx=i[1]\n",
    "    X[cnt, ..., :9] = np.concatenate([imgs_id[idx], np.mean(imgs_id, axis=0), np.std(imgs_id, axis=0)], \\\n",
    "                                   axis=2)\n",
    "    y[cnt] = resize(np.expand_dims(load_mask(ids_train[i[0]], idx+1), 2)) / 255.\n",
    "    cnt+=1\n",
    "    del imgs_id "
   ]
  },
  {
   "cell_type": "code",
   "execution_count": 31,
   "metadata": {
    "collapsed": true
   },
   "outputs": [],
   "source": [
    "c=bcolz.carray(X, rootdir=\"X_val\", mode='w'); \n",
    "c.flush()\n",
    "c=bcolz.carray(y, rootdir=\"y_val\", mode='w'); \n",
    "c.flush()"
   ]
  },
  {
   "cell_type": "code",
   "execution_count": null,
   "metadata": {
    "collapsed": true
   },
   "outputs": [],
   "source": []
  }
 ],
 "metadata": {
  "kernelspec": {
   "display_name": "Python [conda root]",
   "language": "python",
   "name": "conda-root-py"
  },
  "language_info": {
   "codemirror_mode": {
    "name": "ipython",
    "version": 2
   },
   "file_extension": ".py",
   "mimetype": "text/x-python",
   "name": "python",
   "nbconvert_exporter": "python",
   "pygments_lexer": "ipython2",
   "version": "2.7.13"
  }
 },
 "nbformat": 4,
 "nbformat_minor": 2
}
